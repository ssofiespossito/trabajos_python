{
  "nbformat": 4,
  "nbformat_minor": 0,
  "metadata": {
    "colab": {
      "provenance": [],
      "collapsed_sections": [
        "HWShaGLq5Yix",
        "FRlDnvvX51IH",
        "37qPJ3N853jU",
        "1JYtdRfC59U-",
        "Y5YjxJE_5-td",
        "r2Ao-p0e5_1B",
        "XhWJ44vG6BBM",
        "SLe3aQ-bCpfI",
        "0tgjOjAZCvPW",
        "s3hi__qVDAQf",
        "3EeyGxseDTIN",
        "DhmmtwqyDdjl",
        "WntYlgkmDjlE",
        "rhQD90XvET-M",
        "zo365nqVEkVO",
        "TIJrbjwJF4_Q",
        "Q1MLWY8OGCdx",
        "q7YgnusvGjxe",
        "8wS91j-GJYku"
      ],
      "include_colab_link": true
    },
    "kernelspec": {
      "name": "python3",
      "display_name": "Python 3"
    },
    "language_info": {
      "name": "python"
    }
  },
  "cells": [
    {
      "cell_type": "markdown",
      "metadata": {
        "id": "view-in-github",
        "colab_type": "text"
      },
      "source": [
        "<a href=\"https://colab.research.google.com/github/ssofiespossito/trabajos_python/blob/main/EJERCICIOS_PYTHON.ipynb\" target=\"_parent\"><img src=\"https://colab.research.google.com/assets/colab-badge.svg\" alt=\"Open In Colab\"/></a>"
      ]
    },
    {
      "cell_type": "markdown",
      "source": [
        "# **<font color=\"#07a8ed\">Variables, condicionales y bucles</font>**"
      ],
      "metadata": {
        "id": "_fRBXj8mbrnO"
      }
    },
    {
      "cell_type": "markdown",
      "source": [
        "<p align=\"center\">\n",
        "<img src=\"https://www.python.org/static/community_logos/python-powered-h-70x91.png\"/>\n",
        "</p>\n"
      ],
      "metadata": {
        "id": "gjpEYi_23t-3"
      }
    },
    {
      "cell_type": "markdown",
      "source": [
        "### **<font color=\"#07a8ed\">1. Creación de Tuplas</font>**"
      ],
      "metadata": {
        "id": "hWiBpB1dAZ75"
      }
    },
    {
      "cell_type": "markdown",
      "source": [
        "1. Crea una tupla llamada `monedas` que contenga los nombres de 3 monedas diferentes (por ejemplo, \"peso\", \"dólar\", \"euro\").\n",
        "2. Crea una tupla llamada `numeros_primos` con los primeros 5 números primos `(2, 3, 5, 7, 11)`.\n",
        "3. Crea una tupla `datos_personales` que contenga tu nombre (`string`), edad (`int`) y altura (`float`)."
      ],
      "metadata": {
        "id": "fQXhN-F6Ae4h"
      }
    },
    {
      "cell_type": "code",
      "source": [
        "monedas = ('peso','dólar', 'euro')\n",
        "numeros_primos = (2, 3, 5, 7, 11)\n",
        "datos_personales = ('Sofía', 26, 1.55)"
      ],
      "metadata": {
        "id": "1ifHj2AhmRGh"
      },
      "execution_count": null,
      "outputs": []
    },
    {
      "cell_type": "code",
      "source": [
        "print(type(monedas))\n",
        "print(type(numeros_primos))\n",
        "print(type(datos_personales))"
      ],
      "metadata": {
        "colab": {
          "base_uri": "https://localhost:8080/"
        },
        "id": "lbZ0O3vDm0_O",
        "outputId": "99e88a76-74e7-499a-e5dd-362b1fde3e3d"
      },
      "execution_count": null,
      "outputs": [
        {
          "output_type": "stream",
          "name": "stdout",
          "text": [
            "<class 'tuple'>\n",
            "<class 'tuple'>\n",
            "<class 'tuple'>\n"
          ]
        }
      ]
    },
    {
      "cell_type": "code",
      "source": [
        "print(monedas)\n",
        "print(numeros_primos)\n",
        "print(datos_personales)"
      ],
      "metadata": {
        "colab": {
          "base_uri": "https://localhost:8080/"
        },
        "id": "DSvJLyHrnFqN",
        "outputId": "16d41564-4347-4a32-ca29-dfe2cf8b8126"
      },
      "execution_count": null,
      "outputs": [
        {
          "output_type": "stream",
          "name": "stdout",
          "text": [
            "('peso', 'dólar', 'euro')\n",
            "(2, 3, 5, 7, 11)\n",
            "('Sofía', 26, 1.55)\n"
          ]
        }
      ]
    },
    {
      "cell_type": "markdown",
      "source": [
        "### **<font color=\"#07a8ed\">2. Acceso a elementos</font>**"
      ],
      "metadata": {
        "id": "PuhCGWdMAq93"
      }
    },
    {
      "cell_type": "markdown",
      "source": [
        "1. Dada la tupla `monedas` del ejercicio anterior, imprime el segundo elemento.\n",
        "2. Dada la tupla `numeros_primos`, imprime el último elemento utilizando indexación negativa.\n",
        "3. Intenta modificar un elemento de la tupla `datos_personales` (por ejemplo, cambiar tu edad). ¿Qué sucede? ¿Por qué?"
      ],
      "metadata": {
        "id": "doRjUo0MAuPt"
      }
    },
    {
      "cell_type": "code",
      "source": [
        "print(monedas[1])\n",
        "print(numeros_primos[-3])\n",
        "\n"
      ],
      "metadata": {
        "colab": {
          "base_uri": "https://localhost:8080/"
        },
        "id": "HjpwVSAtnLrr",
        "outputId": "f073dc5f-2274-47dc-9c43-77887ac66bfc"
      },
      "execution_count": null,
      "outputs": [
        {
          "output_type": "stream",
          "name": "stdout",
          "text": [
            "dólar\n",
            "5\n"
          ]
        }
      ]
    },
    {
      "cell_type": "code",
      "source": [
        "datos_personales[1] = 27"
      ],
      "metadata": {
        "colab": {
          "base_uri": "https://localhost:8080/",
          "height": 141
        },
        "id": "xn4MocW6neKp",
        "outputId": "64ba09ea-f2d0-4b24-87f0-e29a6148ddf5"
      },
      "execution_count": null,
      "outputs": [
        {
          "output_type": "error",
          "ename": "TypeError",
          "evalue": "'tuple' object does not support item assignment",
          "traceback": [
            "\u001b[0;31m---------------------------------------------------------------------------\u001b[0m",
            "\u001b[0;31mTypeError\u001b[0m                                 Traceback (most recent call last)",
            "\u001b[0;32m<ipython-input-8-7925fa87d87c>\u001b[0m in \u001b[0;36m<cell line: 1>\u001b[0;34m()\u001b[0m\n\u001b[0;32m----> 1\u001b[0;31m \u001b[0mdatos_personales\u001b[0m\u001b[0;34m[\u001b[0m\u001b[0;36m1\u001b[0m\u001b[0;34m]\u001b[0m \u001b[0;34m=\u001b[0m \u001b[0;36m27\u001b[0m\u001b[0;34m\u001b[0m\u001b[0;34m\u001b[0m\u001b[0m\n\u001b[0m",
            "\u001b[0;31mTypeError\u001b[0m: 'tuple' object does not support item assignment"
          ]
        }
      ]
    },
    {
      "cell_type": "code",
      "source": [
        "datos_personales = list(datos_personales)\n",
        "datos_personales[1] = 27\n",
        "datos_personales = tuple(datos_personales)\n",
        "print(datos_personales)"
      ],
      "metadata": {
        "colab": {
          "base_uri": "https://localhost:8080/"
        },
        "id": "AzFsdjwhn-PN",
        "outputId": "e7c182f5-3a97-483c-aa7c-2c19177e6579"
      },
      "execution_count": null,
      "outputs": [
        {
          "output_type": "stream",
          "name": "stdout",
          "text": [
            "('Sofía', 27, 1.55)\n"
          ]
        }
      ]
    },
    {
      "cell_type": "markdown",
      "source": [
        "### **<font color=\"#07a8ed\">3. Conversión y Empaquetado/Desempaquetado</font>**"
      ],
      "metadata": {
        "id": "wVbwtMArA_64"
      }
    },
    {
      "cell_type": "markdown",
      "source": [
        "1. Convierte la tupla `monedas` en una lista y almacénala en una variable llamada `lista_monedas`.\n",
        "2. Crea una lista de 3 colores y conviértela en una tupla.\n",
        "3. Empaqueta los valores 10, 20 y 30 en una tupla llamada `numeros`.\n",
        "4. Desempaqueta la tupla `numeros` en tres variables diferentes: `a`, `b` y `c`."
      ],
      "metadata": {
        "id": "IQRNGhgOBCvT"
      }
    },
    {
      "cell_type": "code",
      "source": [
        "lista_monedas = list(monedas)\n",
        "lista_colores = ['verde','azul', 'amarillo']\n",
        "colores = tuple(lista_colores)\n",
        "numeros = (10, 20, 30)\n",
        "a, b, c = numeros\n",
        "print(f'Tengo {a}, {b} y {c} monedas')\n",
        "print(colores)\n",
        "print(lista_monedas)\n"
      ],
      "metadata": {
        "colab": {
          "base_uri": "https://localhost:8080/"
        },
        "id": "lawRu-O3oUG5",
        "outputId": "64d0026d-68b5-44d6-d6a6-c6033c3cb9ea"
      },
      "execution_count": null,
      "outputs": [
        {
          "output_type": "stream",
          "name": "stdout",
          "text": [
            "Tengo 10, 20 y 30 monedas\n",
            "('verde', 'azul', 'amarillo')\n",
            "['peso', 'dólar', 'euro']\n"
          ]
        }
      ]
    },
    {
      "cell_type": "markdown",
      "source": [
        "### **<font color=\"#07a8ed\">4. Manipulación de Listas</font>**"
      ],
      "metadata": {
        "id": "JgzXRxGCBOjH"
      }
    },
    {
      "cell_type": "markdown",
      "source": [
        "1. Crea una lista llamada `compras` con al menos 5 artículos que necesitas comprar.\n",
        "2. Agrega un nuevo artículo al final de la lista.\n",
        "3. Inserta un artículo en la tercera posición de la lista.\n",
        "4. Elimina el último artículo de la lista.\n",
        "5. Ordena la lista alfabéticamente."
      ],
      "metadata": {
        "id": "1aD0noD4BR5h"
      }
    },
    {
      "cell_type": "code",
      "source": [
        "compras = ['leche', 'azúcar', 'harina', 'pan', 'jamón']\n",
        "compras.insert (5, 'queso')\n",
        "print(compras)"
      ],
      "metadata": {
        "colab": {
          "base_uri": "https://localhost:8080/"
        },
        "id": "c_gn6qaYqNZI",
        "outputId": "8c005f7d-9e6f-44fa-d878-c74811eb8a47"
      },
      "execution_count": null,
      "outputs": [
        {
          "output_type": "stream",
          "name": "stdout",
          "text": [
            "['leche', 'azúcar', 'harina', 'pan', 'jamón', 'queso']\n"
          ]
        }
      ]
    },
    {
      "cell_type": "code",
      "source": [
        "compras.insert(2, 'café')\n",
        "print(compras)"
      ],
      "metadata": {
        "colab": {
          "base_uri": "https://localhost:8080/"
        },
        "id": "jp4PDRy9qwvL",
        "outputId": "00126e42-9761-4586-de9a-87883da17ede"
      },
      "execution_count": null,
      "outputs": [
        {
          "output_type": "stream",
          "name": "stdout",
          "text": [
            "['leche', 'azúcar', 'café', 'harina', 'pan', 'jamón', 'queso']\n"
          ]
        }
      ]
    },
    {
      "cell_type": "markdown",
      "source": [
        "### **<font color=\"#07a8ed\">5. Búsqueda en Listas</font>**"
      ],
      "metadata": {
        "id": "UEystqdjBY1v"
      }
    },
    {
      "cell_type": "markdown",
      "source": [
        "1. Usando la lista `compras`, verifica si \"leche\" está en la lista. 2. Imprime un mensaje indicando si se encontró o no.\n",
        "3. Verifica si \"carne\" NO está en la lista utilizando `not in`. Imprime el resultado."
      ],
      "metadata": {
        "id": "fURKbTCaBbcO"
      }
    },
    {
      "cell_type": "code",
      "source": [
        "'leche' in compras"
      ],
      "metadata": {
        "colab": {
          "base_uri": "https://localhost:8080/"
        },
        "id": "lzTUzr8GrRll",
        "outputId": "5e24a892-03ee-49a8-e62e-176cafa602ee"
      },
      "execution_count": null,
      "outputs": [
        {
          "output_type": "execute_result",
          "data": {
            "text/plain": [
              "True"
            ]
          },
          "metadata": {},
          "execution_count": 19
        }
      ]
    },
    {
      "cell_type": "code",
      "source": [
        "'carne' in compras"
      ],
      "metadata": {
        "colab": {
          "base_uri": "https://localhost:8080/"
        },
        "id": "W9-UxtX3rbkN",
        "outputId": "01ce2b51-21e9-4607-c5af-3d0ac0fade29"
      },
      "execution_count": null,
      "outputs": [
        {
          "output_type": "execute_result",
          "data": {
            "text/plain": [
              "False"
            ]
          },
          "metadata": {},
          "execution_count": 21
        }
      ]
    },
    {
      "cell_type": "markdown",
      "source": [
        "### **<font color=\"#07a8ed\">6. Concatenación y Combinación de Listas</font>**"
      ],
      "metadata": {
        "id": "bENDB0VNBjKt"
      }
    },
    {
      "cell_type": "markdown",
      "source": [
        "1. Crea una lista llamada `numeros_pares` con los primeros 5 números pares.\n",
        "2. Crea otra lista llamada `numeros_impares` con los primeros 5 números impares.\n",
        "3. Combina ambas listas en una sola llamada `numeros_combinados`."
      ],
      "metadata": {
        "id": "867n5cA4Boz_"
      }
    },
    {
      "cell_type": "code",
      "source": [
        "numeros_pares = [2, 4, 6, 8, 10]\n",
        "numeros_impares = [1, 3, 5, 7, 9]\n",
        "numeros_combinados = numeros_pares + numeros_impares\n",
        "print(numeros_combinados)"
      ],
      "metadata": {
        "colab": {
          "base_uri": "https://localhost:8080/"
        },
        "id": "lDKKfOq3riG2",
        "outputId": "19afac43-226f-403b-a196-bd36c24d2ab4"
      },
      "execution_count": null,
      "outputs": [
        {
          "output_type": "stream",
          "name": "stdout",
          "text": [
            "[2, 4, 6, 8, 10, 1, 3, 5, 7, 9]\n"
          ]
        }
      ]
    },
    {
      "cell_type": "markdown",
      "source": [
        "### **<font color=\"#07a8ed\">7. Creación y Acceso a Diccionarios</font>**"
      ],
      "metadata": {
        "id": "B_fRmTFzE44N"
      }
    },
    {
      "cell_type": "markdown",
      "source": [
        "1. Crea un diccionario llamado `agenda` que contenga los nombres y números de teléfono de al menos 3 personas.\n",
        "2. Imprime el número de teléfono de una persona específica buscando por su nombre.\n",
        "3. Agrega un nuevo contacto a la agenda.\n",
        "4. Elimina un contacto de la agenda."
      ],
      "metadata": {
        "id": "-itE0QnKE-IE"
      }
    },
    {
      "cell_type": "code",
      "source": [
        "agenda = {'Juan': 5551234, 'Maria': 5555678, 'Pedro': 5559012}\n",
        "type(agenda)\n"
      ],
      "metadata": {
        "colab": {
          "base_uri": "https://localhost:8080/"
        },
        "id": "iHvCVUOmuiRy",
        "outputId": "56010406-8292-410d-bf23-a3cb6bb2cca3"
      },
      "execution_count": null,
      "outputs": [
        {
          "output_type": "execute_result",
          "data": {
            "text/plain": [
              "dict"
            ]
          },
          "metadata": {},
          "execution_count": 5
        }
      ]
    },
    {
      "cell_type": "code",
      "source": [
        "print(agenda['Maria'])\n"
      ],
      "metadata": {
        "colab": {
          "base_uri": "https://localhost:8080/"
        },
        "id": "P7oJCbFZvTG5",
        "outputId": "6b7560d6-2ecb-4292-f6e0-f9de16be2955"
      },
      "execution_count": null,
      "outputs": [
        {
          "output_type": "stream",
          "name": "stdout",
          "text": [
            "5555678\n"
          ]
        }
      ]
    },
    {
      "cell_type": "code",
      "source": [
        "agenda['pablo'] = 122333\n",
        "print(agenda)"
      ],
      "metadata": {
        "colab": {
          "base_uri": "https://localhost:8080/"
        },
        "id": "w1nwBogGvtYN",
        "outputId": "ac45a40f-d537-4ff8-90f9-02068bbb0f08"
      },
      "execution_count": null,
      "outputs": [
        {
          "output_type": "stream",
          "name": "stdout",
          "text": [
            "{'Juan': 5551234, 'Maria': 5555678, 'Pedro': 5559012, 'pablo': 122333}\n"
          ]
        }
      ]
    },
    {
      "cell_type": "code",
      "source": [
        "del agenda['Juan']\n",
        "print(agenda)"
      ],
      "metadata": {
        "colab": {
          "base_uri": "https://localhost:8080/"
        },
        "id": "9nBomYHcVsJb",
        "outputId": "f55077d0-ee8a-4271-ee1d-9335b794b847"
      },
      "execution_count": null,
      "outputs": [
        {
          "output_type": "stream",
          "name": "stdout",
          "text": [
            "{'Maria': 5555678, 'Pedro': 5559012, 'pablo': 122333}\n"
          ]
        }
      ]
    },
    {
      "cell_type": "markdown",
      "source": [
        "### **<font color=\"#07a8ed\">8. Creación de Diccionarios a partir de Secuencias</font>**"
      ],
      "metadata": {
        "id": "IXR8GYfzBzKA"
      }
    },
    {
      "cell_type": "markdown",
      "source": [
        "1. Crea una lista `paises` con 5 nombres de países y otra lista capitales con sus respectivas capitales.\n",
        "2. Utiliza `zip()` para combinar ambas listas y crear un diccionario `pais_capital` donde las claves sean los países y los valores sean las capitales."
      ],
      "metadata": {
        "id": "bZ_ZsJ7xB3co"
      }
    },
    {
      "cell_type": "markdown",
      "source": [
        "### **<font color=\"#07a8ed\">9. Operaciones con Conjuntos</font>**"
      ],
      "metadata": {
        "id": "O4FXXE6JB_en"
      }
    },
    {
      "cell_type": "markdown",
      "source": [
        "1. Crea un conjunto `numeros1` con los números del 1 al 5.\n",
        "2. Crea otro conjunto `numeros2` con los números del 4 al 8.\n",
        "3. Calcula e imprime:\n",
        "  - La unión de ambos conjuntos.\n",
        "  - La intersección de ambos conjuntos.\n",
        "  - La diferencia entre `numeros1` y `numeros2`.\n",
        "  - La diferencia simétrica entre ambos conjuntos."
      ],
      "metadata": {
        "id": "TJFfnRVcCBo9"
      }
    },
    {
      "cell_type": "markdown",
      "source": [
        "### **<font color=\"#07a8ed\">10. Comprensiones</font>**"
      ],
      "metadata": {
        "id": "bfslKoGHCORn"
      }
    },
    {
      "cell_type": "markdown",
      "source": [],
      "metadata": {
        "id": "o8V3L3QjIC3n"
      }
    },
    {
      "cell_type": "markdown",
      "source": [
        "1. Dada una lista de números `numeros = [1, 2, 3, 4, 5, 6]`, utiliza comprensión de listas para crear una nueva lista que contenga solo los números pares.\n",
        "2. Dada la misma lista de `numeros`, utiliza comprensión de conjuntos para crear un conjunto que contenga el cuadrado de cada número.\n",
        "3. Crea un diccionario llamado `longitud_palabras` donde las claves sean las palabras de la lista `elementos` y los valores sean la longitud de cada palabra, utilizando comprensión de diccionarios."
      ],
      "metadata": {
        "id": "QGx_eiroCSBQ"
      }
    },
    {
      "cell_type": "markdown",
      "source": [
        "### **<font color=\"#07a8ed\">11. Ejercicio Integrador: Análisis Financiero Simplificado</font>**"
      ],
      "metadata": {
        "id": "eAwr2SHcIElo"
      }
    },
    {
      "cell_type": "markdown",
      "source": [
        "**Contexto:**\n",
        "\n",
        "Eres un analista financiero que necesita procesar datos de estados financieros de diferentes empresas. Se te proporciona la siguiente información:\n",
        "\n",
        "- **Empresas:** Una tupla con los nombres de las empresas:\n",
        "  ```python\n",
        "  empresas = (\"Empresa A\", \"Empresa B\", \"Empresa C\")\n",
        "  ```\n",
        "- **Activos y Pasivos:** Listas de tuplas para cada empresa, donde cada tupla contiene el nombre del activo/pasivo y su valor:\n",
        "  ```python\n",
        "  activos_empresa_a = [(\"Efectivo\", 250000), (\"Cuentas por Cobrar\", 120000), (\"Inventario\", 80000), (\"Inversiones\", 150000)]\n",
        "  pasivos_empresa_a = [(\"Cuentas por Pagar\", 50000), (\"Préstamos\", 100000), (\"Impuestos por Pagar\", 25000)]\n",
        "\n",
        "  activos_empresa_b = [(\"Efectivo\", 80000), (\"Cuentas por Cobrar\", 65000), (\"Inventario\", 180000), (\"Inversiones\", 90000)]\n",
        "  pasivos_empresa_b = [(\"Cuentas por Pagar\", 95000), (\"Préstamos\", 220000), (\"Impuestos por Pagar\", 40000)]\n",
        "\n",
        "  activos_empresa_c = [(\"Efectivo\", 380000), (\"Cuentas por Cobrar\", 210000), (\"Inventario\", 150000), (\"Inversiones\", 280000)]\n",
        "  pasivos_empresa_c = [(\"Cuentas por Pagar\", 130000), (\"Préstamos\", 350000), (\"Impuestos por Pagar\", 60000)]\n",
        "  ```\n",
        "\n",
        "**Tareas:**\n",
        "1. **Crear un diccionario:** Utiliza comprensión de diccionarios para crear un diccionario `estados_financieros` donde las claves sean los nombres de las empresas y los valores sean diccionarios con las claves \"Activos\" y \"Pasivos\". Los valores de \"Activos\" y \"Pasivos\" deben ser los diccionarios correspondientes creados a partir de las listas `activos` y `pasivos`.\n",
        "\n",
        "2. **Calcular Patrimonio Neto:** Para cada empresa, calcula el patrimonio neto (Patrimonio Neto = Activos - Pasivos) y agrégalo al diccionario `estados_financieros` bajo la clave \"Patrimonio Neto\".\n",
        "\n",
        "3. **Identificar Activos Clave:** Crea un conjunto `activos_clave` que contenga los nombres de los activos que tienen un valor superior a 100,000.\n",
        "\n",
        "4. **Empresas con Problemas de Liquidez:** Utiliza comprensión de listas para crear una lista `empresas_liquidez` con los nombres de las empresas cuyo activo corriente (Efectivo + Cuentas por Cobrar) es menor que su pasivo corriente (Cuentas por Pagar).\n",
        "\n",
        "5. **Mostrar Resultados:** Imprime los siguientes resultados de manera clara y organizada:\n",
        "\n",
        "  - El diccionario `estados_financieros` completo.\n",
        "  - El conjunto `activos_clave`.\n",
        "  - La lista `empresas_liquidez`.\n",
        "\n",
        "**Información extra**:\n",
        "- Se puede trabajar tanto con comprensión como con bucles y condicionales.\n",
        "- Los bucles se pueden anidar para trabajar de una manera más profunda y compleja.\n",
        "- Es posible que se deba utilizar métodos como `items()` para trabajar con diccionarios. Su propósito principal es proporcionar una forma de acceder tanto a las claves como a los valores de un diccionario de manera simultánea (devuelve una tupla con la par clave/valor del objeto). Es posible usarlo en iteraciones.\n",
        "- Además de `items()`, también es posible que se deba utilizar `values()` que permite obtener los valores solamentes, para trabajar de manera individual cada uno de ellos. Se puede usar en iteraciones."
      ],
      "metadata": {
        "id": "FzXYcvY0IJYd"
      }
    },
    {
      "cell_type": "markdown",
      "source": [
        "## **<font color=\"#07a8ed\">Resolución</font>**"
      ],
      "metadata": {
        "id": "SLe3aQ-bCpfI"
      }
    },
    {
      "cell_type": "markdown",
      "source": [
        "### **<font color=\"#07a8ed\">1. Creación de Tuplas</font>**"
      ],
      "metadata": {
        "id": "0tgjOjAZCvPW"
      }
    },
    {
      "cell_type": "code",
      "source": [
        "monedas = (\"peso\", \"dólar\", \"euro\")\n",
        "numeros_primos = (2, 3, 5, 7, 11)\n",
        "datos_personales = (\"Juan Pérez\", 35, 1.78)"
      ],
      "metadata": {
        "id": "sRKVn_1gCxXD"
      },
      "execution_count": null,
      "outputs": []
    },
    {
      "cell_type": "markdown",
      "source": [
        "### **<font color=\"#07a8ed\">2. Acceso a elementos</font>**"
      ],
      "metadata": {
        "id": "s3hi__qVDAQf"
      }
    },
    {
      "cell_type": "code",
      "source": [
        "print(monedas[1])         # Output: dólar\n",
        "print(numeros_primos[-1]) # Output: 11\n",
        "\n",
        "# Intentar modificar la tupla:\n",
        "datos_personales[1] = 36  # Esto generará un TypeError, ya que no se puede modificar un valor dentro de una tupla."
      ],
      "metadata": {
        "colab": {
          "base_uri": "https://localhost:8080/",
          "height": 211
        },
        "id": "LisaHQL4DAxL",
        "outputId": "a711a790-2626-482e-b68d-8c4238758ac2"
      },
      "execution_count": null,
      "outputs": [
        {
          "output_type": "stream",
          "name": "stdout",
          "text": [
            "dólar\n",
            "11\n"
          ]
        },
        {
          "output_type": "error",
          "ename": "TypeError",
          "evalue": "'tuple' object does not support item assignment",
          "traceback": [
            "\u001b[0;31m---------------------------------------------------------------------------\u001b[0m",
            "\u001b[0;31mTypeError\u001b[0m                                 Traceback (most recent call last)",
            "\u001b[0;32m<ipython-input-8-f46fcb5ad326>\u001b[0m in \u001b[0;36m<cell line: 5>\u001b[0;34m()\u001b[0m\n\u001b[1;32m      3\u001b[0m \u001b[0;34m\u001b[0m\u001b[0m\n\u001b[1;32m      4\u001b[0m \u001b[0;31m# Intentar modificar la tupla:\u001b[0m\u001b[0;34m\u001b[0m\u001b[0;34m\u001b[0m\u001b[0m\n\u001b[0;32m----> 5\u001b[0;31m \u001b[0mdatos_personales\u001b[0m\u001b[0;34m[\u001b[0m\u001b[0;36m1\u001b[0m\u001b[0;34m]\u001b[0m \u001b[0;34m=\u001b[0m \u001b[0;36m36\u001b[0m  \u001b[0;31m# Esto generará un TypeError, ya que no se puede modificar un valor dentro de una tupla.\u001b[0m\u001b[0;34m\u001b[0m\u001b[0;34m\u001b[0m\u001b[0m\n\u001b[0m",
            "\u001b[0;31mTypeError\u001b[0m: 'tuple' object does not support item assignment"
          ]
        }
      ]
    },
    {
      "cell_type": "code",
      "source": [
        "lista_monedas = list(monedas)\n",
        "colores = [\"rojo\", \"verde\", \"azul\"]\n",
        "colores_tupla = tuple(colores)\n",
        "\n",
        "numeros = (10, 20, 30)\n",
        "a, b, c = numeros\n",
        "\n",
        "print(lista_monedas)\n",
        "print(colores_tupla)\n",
        "print(a, b, c)"
      ],
      "metadata": {
        "colab": {
          "base_uri": "https://localhost:8080/"
        },
        "id": "y9gDKpJPDU5A",
        "outputId": "73ab9e38-7d5f-4094-da1f-27eaecbda0ee"
      },
      "execution_count": null,
      "outputs": [
        {
          "output_type": "stream",
          "name": "stdout",
          "text": [
            "['peso', 'dólar', 'euro']\n",
            "('rojo', 'verde', 'azul')\n",
            "10 20 30\n"
          ]
        }
      ]
    },
    {
      "cell_type": "markdown",
      "source": [
        "### **<font color=\"#07a8ed\">4. Manipulación de Listas</font>**"
      ],
      "metadata": {
        "id": "DhmmtwqyDdjl"
      }
    },
    {
      "cell_type": "code",
      "source": [
        "compras = [\"pan\", \"leche\", \"huevos\", \"queso\", \"jamón\"]\n",
        "compras.append(\"frutas\")\n",
        "compras.insert(2, \"café\")\n",
        "compras.pop()\n",
        "compras.sort()\n",
        "\n",
        "print(compras)"
      ],
      "metadata": {
        "colab": {
          "base_uri": "https://localhost:8080/"
        },
        "id": "_nehAEfPDfo_",
        "outputId": "7be54297-7dc4-40a3-b2f6-25eb97bfed09"
      },
      "execution_count": null,
      "outputs": [
        {
          "output_type": "stream",
          "name": "stdout",
          "text": [
            "['café', 'huevos', 'jamón', 'leche', 'pan', 'queso']\n"
          ]
        }
      ]
    },
    {
      "cell_type": "markdown",
      "source": [
        "### **<font color=\"#07a8ed\">5. Búsqueda en Listas</font>**"
      ],
      "metadata": {
        "id": "WntYlgkmDjlE"
      }
    },
    {
      "cell_type": "code",
      "source": [
        "if \"leche\" in compras:\n",
        "    print(\"La leche está en la lista de compras.\")\n",
        "else:\n",
        "    print(\"La leche no está en la lista de compras.\")\n",
        "\n",
        "if \"carne\" not in compras:\n",
        "    print(\"La carne no está en la lista de compras.\")"
      ],
      "metadata": {
        "colab": {
          "base_uri": "https://localhost:8080/"
        },
        "id": "mammdmKyDk4w",
        "outputId": "3e61c329-9233-4b1a-f093-74c1df5d814b"
      },
      "execution_count": null,
      "outputs": [
        {
          "output_type": "stream",
          "name": "stdout",
          "text": [
            "La leche está en la lista de compras.\n",
            "La carne no está en la lista de compras.\n"
          ]
        }
      ]
    },
    {
      "cell_type": "markdown",
      "source": [
        "### **<font color=\"#07a8ed\">6. Concatenación y Combinación de Listas</font>**"
      ],
      "metadata": {
        "id": "rhQD90XvET-M"
      }
    },
    {
      "cell_type": "code",
      "source": [
        "numeros_pares = [2, 4, 6, 8, 10]\n",
        "numeros_impares = [1, 3, 5, 7, 9]\n",
        "\n",
        "numeros_combinados = numeros_pares + numeros_impares\n",
        "print(numeros_combinados)"
      ],
      "metadata": {
        "colab": {
          "base_uri": "https://localhost:8080/"
        },
        "id": "H3lj5V-IEVaS",
        "outputId": "a5bb55d3-a8d6-4f95-c929-10a75fb7c128"
      },
      "execution_count": null,
      "outputs": [
        {
          "output_type": "stream",
          "name": "stdout",
          "text": [
            "[2, 4, 6, 8, 10, 1, 3, 5, 7, 9]\n"
          ]
        }
      ]
    },
    {
      "cell_type": "markdown",
      "source": [
        "### **<font color=\"#07a8ed\">7. Creación y Acceso a Diccionarios</font>**"
      ],
      "metadata": {
        "id": "zo365nqVEkVO"
      }
    },
    {
      "cell_type": "code",
      "source": [
        "agenda = {\n",
        "    \"Ana\": \"351-1234\",\n",
        "    \"Juan\": \"3543-5678\",\n",
        "    \"Maria\": \"351-9012\"\n",
        "}\n",
        "\n",
        "print(agenda[\"Juan\"])\n",
        "agenda[\"Pedro\"] = \"351-4321\"\n",
        "agenda.pop(\"Ana\")\n",
        "\n",
        "# Para eliminar, también se puede utilizar:\n",
        "# del agenda[\"Ana\"]\n",
        "\n",
        "print(agenda)"
      ],
      "metadata": {
        "colab": {
          "base_uri": "https://localhost:8080/"
        },
        "id": "NxWULEbbEq7o",
        "outputId": "7466adde-5a23-4ddb-a30e-187a25e5f86e"
      },
      "execution_count": null,
      "outputs": [
        {
          "output_type": "stream",
          "name": "stdout",
          "text": [
            "3543-5678\n",
            "{'Juan': '3543-5678', 'Maria': '351-9012', 'Pedro': '351-4321'}\n"
          ]
        }
      ]
    },
    {
      "cell_type": "markdown",
      "source": [
        "### **<font color=\"#07a8ed\">8. Creación de Diccionarios a partir de Secuencias</font>**"
      ],
      "metadata": {
        "id": "TIJrbjwJF4_Q"
      }
    },
    {
      "cell_type": "code",
      "source": [
        "paises = [\"Argentina\", \"Brasil\", \"Chile\", \"Colombia\", \"Perú\"]\n",
        "capitales = [\"Buenos Aires\", \"Brasilia\", \"Santiago\", \"Bogotá\", \"Lima\"]\n",
        "\n",
        "pais_capital = dict(zip(paises, capitales))\n",
        "print(pais_capital)"
      ],
      "metadata": {
        "colab": {
          "base_uri": "https://localhost:8080/"
        },
        "id": "Y_gFQYt4F_DV",
        "outputId": "f8ea54bb-754a-429e-c9c5-823c42411729"
      },
      "execution_count": null,
      "outputs": [
        {
          "output_type": "stream",
          "name": "stdout",
          "text": [
            "{'Argentina': 'Buenos Aires', 'Brasil': 'Brasilia', 'Chile': 'Santiago', 'Colombia': 'Bogotá', 'Perú': 'Lima'}\n"
          ]
        }
      ]
    },
    {
      "cell_type": "markdown",
      "source": [
        "### **<font color=\"#07a8ed\">9. Operaciones con Conjuntos</font>**"
      ],
      "metadata": {
        "id": "Q1MLWY8OGCdx"
      }
    },
    {
      "cell_type": "code",
      "source": [
        "numeros1 = {1, 2, 3, 4, 5}\n",
        "numeros2 = {4, 5, 6, 7, 8}\n",
        "\n",
        "union = numeros1.union(numeros2)\n",
        "interseccion = numeros1.intersection(numeros2)\n",
        "diferencia = numeros1.difference(numeros2)\n",
        "diferencia_simetrica = numeros1.symmetric_difference(numeros2)\n",
        "\n",
        "print(f\"Unión: {union}\")\n",
        "print(f\"Intersección: {interseccion}\")\n",
        "print(f\"Diferencia (numeros1 - numeros2): {diferencia}\")\n",
        "print(f\"Diferencia simétrica: {diferencia_simetrica}\")"
      ],
      "metadata": {
        "colab": {
          "base_uri": "https://localhost:8080/"
        },
        "id": "gl6lxXAEGGuL",
        "outputId": "77e6e92c-7a50-4c04-b687-ffb7b23de6f0"
      },
      "execution_count": null,
      "outputs": [
        {
          "output_type": "stream",
          "name": "stdout",
          "text": [
            "Unión: {1, 2, 3, 4, 5, 6, 7, 8}\n",
            "Intersección: {4, 5}\n",
            "Diferencia (numeros1 - numeros2): {1, 2, 3}\n",
            "Diferencia simétrica: {1, 2, 3, 6, 7, 8}\n"
          ]
        }
      ]
    },
    {
      "cell_type": "markdown",
      "source": [
        "### **<font color=\"#07a8ed\">10.  Comprensiones</font>**"
      ],
      "metadata": {
        "id": "q7YgnusvGjxe"
      }
    },
    {
      "cell_type": "code",
      "source": [
        "numeros = [1, 2, 3, 4, 5, 6]\n",
        "\n",
        "pares = [num for num in numeros if num % 2 == 0]\n",
        "print(pares)\n",
        "\n",
        "cuadrados = {num**2 for num in numeros}\n",
        "print(cuadrados)\n",
        "\n",
        "elementos = ['activo', 'pasivo', 'patrimonio neto','pasivo corriente', 'pasivo no corriente']\n",
        "longitud_palabras = {palabra: len(palabra) for palabra in elementos}\n",
        "print(longitud_palabras)"
      ],
      "metadata": {
        "colab": {
          "base_uri": "https://localhost:8080/"
        },
        "id": "phSU146sGnZT",
        "outputId": "43f2a39d-d440-4acc-af0e-203ddfaa85ec"
      },
      "execution_count": null,
      "outputs": [
        {
          "output_type": "stream",
          "name": "stdout",
          "text": [
            "[2, 4, 6]\n",
            "{1, 4, 36, 9, 16, 25}\n",
            "{'activo': 6, 'pasivo': 6, 'patrimonio neto': 15, 'pasivo corriente': 16, 'pasivo no corriente': 19}\n"
          ]
        }
      ]
    },
    {
      "cell_type": "markdown",
      "source": [
        "### **<font color=\"#07a8ed\">11. Ejercicio Integrador: Análisis Financiero Simplificado</font>**"
      ],
      "metadata": {
        "id": "8wS91j-GJYku"
      }
    },
    {
      "cell_type": "code",
      "source": [
        "empresas = (\"Empresa A\", \"Empresa B\", \"Empresa C\")\n",
        "\n",
        "activos_empresa_a = [(\"Efectivo\", 250000), (\"Cuentas por Cobrar\", 120000), (\"Inventario\", 80000), (\"Inversiones\", 150000)]\n",
        "pasivos_empresa_a = [(\"Cuentas por Pagar\", 50000), (\"Préstamos\", 100000), (\"Impuestos por Pagar\", 25000)]\n",
        "\n",
        "activos_empresa_b = [(\"Efectivo\", 80000), (\"Cuentas por Cobrar\", 65000), (\"Inventario\", 180000), (\"Inversiones\", 90000)]\n",
        "pasivos_empresa_b = [(\"Cuentas por Pagar\", 95000), (\"Préstamos\", 220000), (\"Impuestos por Pagar\", 40000)]\n",
        "\n",
        "activos_empresa_c = [(\"Efectivo\", 380000), (\"Cuentas por Cobrar\", 210000), (\"Inventario\", 150000), (\"Inversiones\", 280000)]\n",
        "pasivos_empresa_c = [(\"Cuentas por Pagar\", 130000), (\"Préstamos\", 350000), (\"Impuestos por Pagar\", 60000)]\n",
        "\n",
        "activos = [activos_empresa_a, activos_empresa_b, activos_empresa_c]\n",
        "pasivos = [pasivos_empresa_a, pasivos_empresa_b, pasivos_empresa_c]\n",
        "\n",
        "# 1. Crear diccionario de estados financieros\n",
        "estados_financieros = {}\n",
        "for i, empresa in enumerate(empresas):\n",
        "    estados_financieros[empresa] = {\n",
        "        \"Activos\": dict(activos[i]),\n",
        "        \"Pasivos\": dict(pasivos[i])\n",
        "    }\n",
        "\n",
        "# 2. Calcular Patrimonio Neto\n",
        "for empresa, datos in estados_financieros.items():\n",
        "    activos_total = 0\n",
        "    for valor in datos[\"Activos\"].values():\n",
        "        activos_total += valor\n",
        "    pasivos_total = 0\n",
        "    for valor in datos[\"Pasivos\"].values():\n",
        "        pasivos_total += valor\n",
        "    datos[\"Patrimonio Neto\"] = activos_total - pasivos_total\n",
        "\n",
        "# 3. Identificar Activos Clave\n",
        "activos_clave = set()\n",
        "for empresa in empresas:\n",
        "    for nombre, valor in estados_financieros[empresa][\"Activos\"].items():\n",
        "        if valor > 100000:\n",
        "            activos_clave.add(nombre)\n",
        "\n",
        "# 4. Empresas con Problemas de Liquidez\n",
        "empresas_liquidez = []\n",
        "for empresa, datos in estados_financieros.items():\n",
        "    activo_corriente = datos[\"Activos\"][\"Efectivo\"] + datos[\"Activos\"][\"Cuentas por Cobrar\"]\n",
        "    pasivo_corriente = datos[\"Pasivos\"][\"Cuentas por Pagar\"]\n",
        "    if activo_corriente < pasivo_corriente:\n",
        "        empresas_liquidez.append(empresa)\n",
        "\n",
        "# 5. Mostrar Resultados\n",
        "print(\"Estados Financieros:\")\n",
        "for empresa, datos in estados_financieros.items():\n",
        "    print(f\"- {empresa}:\")\n",
        "    for tipo, valores in datos.items():\n",
        "        print(f\"  {tipo}: {valores}\")\n",
        "\n",
        "print(\"\\nActivos Clave:\", activos_clave)\n",
        "print(\"\\nEmpresas con Problemas de Liquidez:\", empresas_liquidez)"
      ],
      "metadata": {
        "colab": {
          "base_uri": "https://localhost:8080/"
        },
        "id": "hpCuuw74JaeC",
        "outputId": "ed52fd49-f059-4b68-bbc0-ea5788218c2a"
      },
      "execution_count": null,
      "outputs": [
        {
          "output_type": "stream",
          "name": "stdout",
          "text": [
            "Estados Financieros:\n",
            "- Empresa A:\n",
            "  Activos: {'Efectivo': 250000, 'Cuentas por Cobrar': 120000, 'Inventario': 80000, 'Inversiones': 150000}\n",
            "  Pasivos: {'Cuentas por Pagar': 50000, 'Préstamos': 100000, 'Impuestos por Pagar': 25000}\n",
            "  Patrimonio Neto: 425000\n",
            "- Empresa B:\n",
            "  Activos: {'Efectivo': 80000, 'Cuentas por Cobrar': 65000, 'Inventario': 180000, 'Inversiones': 90000}\n",
            "  Pasivos: {'Cuentas por Pagar': 95000, 'Préstamos': 220000, 'Impuestos por Pagar': 40000}\n",
            "  Patrimonio Neto: 60000\n",
            "- Empresa C:\n",
            "  Activos: {'Efectivo': 380000, 'Cuentas por Cobrar': 210000, 'Inventario': 150000, 'Inversiones': 280000}\n",
            "  Pasivos: {'Cuentas por Pagar': 130000, 'Préstamos': 350000, 'Impuestos por Pagar': 60000}\n",
            "  Patrimonio Neto: 480000\n",
            "\n",
            "Activos Clave: {'Inventario', 'Cuentas por Cobrar', 'Inversiones', 'Efectivo'}\n",
            "\n",
            "Empresas con Problemas de Liquidez: []\n"
          ]
        }
      ]
    },
    {
      "cell_type": "markdown",
      "source": [
        "<p align=\"center\"><b>\n",
        "💗\n",
        "<font color=\"#07a8ed\">\n",
        "Hemos llegado al final de nuestro colab, a seguir codeando...\n",
        "</font>\n",
        "</p>\n",
        "\n"
      ],
      "metadata": {
        "id": "jLFcCFoEuxr6"
      }
    }
  ]
}