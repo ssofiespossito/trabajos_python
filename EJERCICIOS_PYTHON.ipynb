{
  "nbformat": 4,
  "nbformat_minor": 0,
  "metadata": {
    "colab": {
      "provenance": [],
      "collapsed_sections": [
        "HWShaGLq5Yix",
        "FRlDnvvX51IH",
        "37qPJ3N853jU",
        "1JYtdRfC59U-",
        "Y5YjxJE_5-td",
        "r2Ao-p0e5_1B",
        "XhWJ44vG6BBM",
        "SLe3aQ-bCpfI",
        "0tgjOjAZCvPW",
        "s3hi__qVDAQf",
        "3EeyGxseDTIN",
        "DhmmtwqyDdjl",
        "WntYlgkmDjlE",
        "rhQD90XvET-M",
        "zo365nqVEkVO",
        "TIJrbjwJF4_Q",
        "Q1MLWY8OGCdx",
        "q7YgnusvGjxe",
        "8wS91j-GJYku"
      ],
      "include_colab_link": true
    },
    "kernelspec": {
      "name": "python3",
      "display_name": "Python 3"
    },
    "language_info": {
      "name": "python"
    }
  },
  "cells": [
    {
      "cell_type": "markdown",
      "metadata": {
        "id": "view-in-github",
        "colab_type": "text"
      },
      "source": [
        "<a href=\"https://colab.research.google.com/github/ssofiespossito/trabajos_python/blob/main/EJERCICIOS_PYTHON.ipynb\" target=\"_parent\"><img src=\"https://colab.research.google.com/assets/colab-badge.svg\" alt=\"Open In Colab\"/></a>"
      ]
    },
    {
      "cell_type": "markdown",
      "source": [
        "# **<font color=\"#07a8ed\">Variables, condicionales y bucles</font>**"
      ],
      "metadata": {
        "id": "_fRBXj8mbrnO"
      }
    },
    {
      "cell_type": "markdown",
      "source": [
        "<p align=\"center\">\n",
        "<img src=\"https://www.python.org/static/community_logos/python-powered-h-70x91.png\"/>\n",
        "</p>\n"
      ],
      "metadata": {
        "id": "gjpEYi_23t-3"
      }
    },
    {
      "cell_type": "markdown",
      "source": [
        "### **<font color=\"#07a8ed\">1. Creación de Tuplas</font>**"
      ],
      "metadata": {
        "id": "0tgjOjAZCvPW"
      }
    },
    {
      "cell_type": "code",
      "source": [
        "monedas = (\"peso\", \"dólar\", \"euro\")\n",
        "numeros_primos = (2, 3, 5, 7, 11)\n",
        "datos_personales = (\"Juan Pérez\", 35, 1.78)"
      ],
      "metadata": {
        "id": "sRKVn_1gCxXD"
      },
      "execution_count": null,
      "outputs": []
    },
    {
      "cell_type": "code",
      "source": [
        "lista_monedas = list(monedas)\n",
        "colores = [\"rojo\", \"verde\", \"azul\"]\n",
        "colores_tupla = tuple(colores)\n",
        "\n",
        "numeros = (10, 20, 30)\n",
        "a, b, c = numeros\n",
        "\n",
        "print(lista_monedas)\n",
        "print(colores_tupla)\n",
        "print(a, b, c)"
      ],
      "metadata": {
        "colab": {
          "base_uri": "https://localhost:8080/"
        },
        "id": "y9gDKpJPDU5A",
        "outputId": "73ab9e38-7d5f-4094-da1f-27eaecbda0ee"
      },
      "execution_count": null,
      "outputs": [
        {
          "output_type": "stream",
          "name": "stdout",
          "text": [
            "['peso', 'dólar', 'euro']\n",
            "('rojo', 'verde', 'azul')\n",
            "10 20 30\n"
          ]
        }
      ]
    },
    {
      "cell_type": "markdown",
      "source": [
        "### **<font color=\"#07a8ed\">4. Manipulación de Listas</font>**"
      ],
      "metadata": {
        "id": "DhmmtwqyDdjl"
      }
    },
    {
      "cell_type": "code",
      "source": [
        "compras = [\"pan\", \"leche\", \"huevos\", \"queso\", \"jamón\"]\n",
        "compras.append(\"frutas\")\n",
        "compras.insert(2, \"café\")\n",
        "compras.pop()\n",
        "compras.sort()\n",
        "\n",
        "print(compras)"
      ],
      "metadata": {
        "colab": {
          "base_uri": "https://localhost:8080/"
        },
        "id": "_nehAEfPDfo_",
        "outputId": "7be54297-7dc4-40a3-b2f6-25eb97bfed09"
      },
      "execution_count": null,
      "outputs": [
        {
          "output_type": "stream",
          "name": "stdout",
          "text": [
            "['café', 'huevos', 'jamón', 'leche', 'pan', 'queso']\n"
          ]
        }
      ]
    },
    {
      "cell_type": "markdown",
      "source": [
        "### **<font color=\"#07a8ed\">5. Búsqueda en Listas</font>**"
      ],
      "metadata": {
        "id": "WntYlgkmDjlE"
      }
    },
    {
      "cell_type": "code",
      "source": [
        "if \"leche\" in compras:\n",
        "    print(\"La leche está en la lista de compras.\")\n",
        "else:\n",
        "    print(\"La leche no está en la lista de compras.\")\n",
        "\n",
        "if \"carne\" not in compras:\n",
        "    print(\"La carne no está en la lista de compras.\")"
      ],
      "metadata": {
        "colab": {
          "base_uri": "https://localhost:8080/"
        },
        "id": "mammdmKyDk4w",
        "outputId": "3e61c329-9233-4b1a-f093-74c1df5d814b"
      },
      "execution_count": null,
      "outputs": [
        {
          "output_type": "stream",
          "name": "stdout",
          "text": [
            "La leche está en la lista de compras.\n",
            "La carne no está en la lista de compras.\n"
          ]
        }
      ]
    },
    {
      "cell_type": "markdown",
      "source": [
        "### **<font color=\"#07a8ed\">6. Concatenación y Combinación de Listas</font>**"
      ],
      "metadata": {
        "id": "rhQD90XvET-M"
      }
    },
    {
      "cell_type": "code",
      "source": [
        "numeros_pares = [2, 4, 6, 8, 10]\n",
        "numeros_impares = [1, 3, 5, 7, 9]\n",
        "\n",
        "numeros_combinados = numeros_pares + numeros_impares\n",
        "print(numeros_combinados)"
      ],
      "metadata": {
        "colab": {
          "base_uri": "https://localhost:8080/"
        },
        "id": "H3lj5V-IEVaS",
        "outputId": "a5bb55d3-a8d6-4f95-c929-10a75fb7c128"
      },
      "execution_count": null,
      "outputs": [
        {
          "output_type": "stream",
          "name": "stdout",
          "text": [
            "[2, 4, 6, 8, 10, 1, 3, 5, 7, 9]\n"
          ]
        }
      ]
    },
    {
      "cell_type": "markdown",
      "source": [
        "### **<font color=\"#07a8ed\">7. Creación y Acceso a Diccionarios</font>**"
      ],
      "metadata": {
        "id": "zo365nqVEkVO"
      }
    },
    {
      "cell_type": "code",
      "source": [
        "agenda = {\n",
        "    \"Ana\": \"351-1234\",\n",
        "    \"Juan\": \"3543-5678\",\n",
        "    \"Maria\": \"351-9012\"\n",
        "}\n",
        "\n",
        "print(agenda[\"Juan\"])\n",
        "agenda[\"Pedro\"] = \"351-4321\"\n",
        "agenda.pop(\"Ana\")\n",
        "\n",
        "# Para eliminar, también se puede utilizar:\n",
        "# del agenda[\"Ana\"]\n",
        "\n",
        "print(agenda)"
      ],
      "metadata": {
        "colab": {
          "base_uri": "https://localhost:8080/"
        },
        "id": "NxWULEbbEq7o",
        "outputId": "7466adde-5a23-4ddb-a30e-187a25e5f86e"
      },
      "execution_count": null,
      "outputs": [
        {
          "output_type": "stream",
          "name": "stdout",
          "text": [
            "3543-5678\n",
            "{'Juan': '3543-5678', 'Maria': '351-9012', 'Pedro': '351-4321'}\n"
          ]
        }
      ]
    },
    {
      "cell_type": "markdown",
      "source": [
        "### **<font color=\"#07a8ed\">8. Creación de Diccionarios a partir de Secuencias</font>**"
      ],
      "metadata": {
        "id": "TIJrbjwJF4_Q"
      }
    },
    {
      "cell_type": "code",
      "source": [
        "paises = [\"Argentina\", \"Brasil\", \"Chile\", \"Colombia\", \"Perú\"]\n",
        "capitales = [\"Buenos Aires\", \"Brasilia\", \"Santiago\", \"Bogotá\", \"Lima\"]\n",
        "\n",
        "pais_capital = dict(zip(paises, capitales))\n",
        "print(pais_capital)"
      ],
      "metadata": {
        "colab": {
          "base_uri": "https://localhost:8080/"
        },
        "id": "Y_gFQYt4F_DV",
        "outputId": "f8ea54bb-754a-429e-c9c5-823c42411729"
      },
      "execution_count": null,
      "outputs": [
        {
          "output_type": "stream",
          "name": "stdout",
          "text": [
            "{'Argentina': 'Buenos Aires', 'Brasil': 'Brasilia', 'Chile': 'Santiago', 'Colombia': 'Bogotá', 'Perú': 'Lima'}\n"
          ]
        }
      ]
    },
    {
      "cell_type": "markdown",
      "source": [
        "### **<font color=\"#07a8ed\">9. Operaciones con Conjuntos</font>**"
      ],
      "metadata": {
        "id": "Q1MLWY8OGCdx"
      }
    },
    {
      "cell_type": "code",
      "source": [
        "numeros1 = {1, 2, 3, 4, 5}\n",
        "numeros2 = {4, 5, 6, 7, 8}\n",
        "\n",
        "union = numeros1.union(numeros2)\n",
        "interseccion = numeros1.intersection(numeros2)\n",
        "diferencia = numeros1.difference(numeros2)\n",
        "diferencia_simetrica = numeros1.symmetric_difference(numeros2)\n",
        "\n",
        "print(f\"Unión: {union}\")\n",
        "print(f\"Intersección: {interseccion}\")\n",
        "print(f\"Diferencia (numeros1 - numeros2): {diferencia}\")\n",
        "print(f\"Diferencia simétrica: {diferencia_simetrica}\")"
      ],
      "metadata": {
        "colab": {
          "base_uri": "https://localhost:8080/"
        },
        "id": "gl6lxXAEGGuL",
        "outputId": "77e6e92c-7a50-4c04-b687-ffb7b23de6f0"
      },
      "execution_count": null,
      "outputs": [
        {
          "output_type": "stream",
          "name": "stdout",
          "text": [
            "Unión: {1, 2, 3, 4, 5, 6, 7, 8}\n",
            "Intersección: {4, 5}\n",
            "Diferencia (numeros1 - numeros2): {1, 2, 3}\n",
            "Diferencia simétrica: {1, 2, 3, 6, 7, 8}\n"
          ]
        }
      ]
    },
    {
      "cell_type": "markdown",
      "source": [
        "### **<font color=\"#07a8ed\">10.  Comprensiones</font>**"
      ],
      "metadata": {
        "id": "q7YgnusvGjxe"
      }
    },
    {
      "cell_type": "code",
      "source": [
        "numeros = [1, 2, 3, 4, 5, 6]\n",
        "\n",
        "pares = [num for num in numeros if num % 2 == 0]\n",
        "print(pares)\n",
        "\n",
        "cuadrados = {num**2 for num in numeros}\n",
        "print(cuadrados)\n",
        "\n",
        "elementos = ['activo', 'pasivo', 'patrimonio neto','pasivo corriente', 'pasivo no corriente']\n",
        "longitud_palabras = {palabra: len(palabra) for palabra in elementos}\n",
        "print(longitud_palabras)"
      ],
      "metadata": {
        "colab": {
          "base_uri": "https://localhost:8080/"
        },
        "id": "phSU146sGnZT",
        "outputId": "43f2a39d-d440-4acc-af0e-203ddfaa85ec"
      },
      "execution_count": null,
      "outputs": [
        {
          "output_type": "stream",
          "name": "stdout",
          "text": [
            "[2, 4, 6]\n",
            "{1, 4, 36, 9, 16, 25}\n",
            "{'activo': 6, 'pasivo': 6, 'patrimonio neto': 15, 'pasivo corriente': 16, 'pasivo no corriente': 19}\n"
          ]
        }
      ]
    },
    {
      "cell_type": "markdown",
      "source": [
        "### **<font color=\"#07a8ed\">11. Ejercicio Integrador: Análisis Financiero Simplificado</font>**"
      ],
      "metadata": {
        "id": "8wS91j-GJYku"
      }
    },
    {
      "cell_type": "code",
      "source": [
        "empresas = (\"Empresa A\", \"Empresa B\", \"Empresa C\")\n",
        "\n",
        "activos_empresa_a = [(\"Efectivo\", 250000), (\"Cuentas por Cobrar\", 120000), (\"Inventario\", 80000), (\"Inversiones\", 150000)]\n",
        "pasivos_empresa_a = [(\"Cuentas por Pagar\", 50000), (\"Préstamos\", 100000), (\"Impuestos por Pagar\", 25000)]\n",
        "\n",
        "activos_empresa_b = [(\"Efectivo\", 80000), (\"Cuentas por Cobrar\", 65000), (\"Inventario\", 180000), (\"Inversiones\", 90000)]\n",
        "pasivos_empresa_b = [(\"Cuentas por Pagar\", 95000), (\"Préstamos\", 220000), (\"Impuestos por Pagar\", 40000)]\n",
        "\n",
        "activos_empresa_c = [(\"Efectivo\", 380000), (\"Cuentas por Cobrar\", 210000), (\"Inventario\", 150000), (\"Inversiones\", 280000)]\n",
        "pasivos_empresa_c = [(\"Cuentas por Pagar\", 130000), (\"Préstamos\", 350000), (\"Impuestos por Pagar\", 60000)]\n",
        "\n",
        "activos = [activos_empresa_a, activos_empresa_b, activos_empresa_c]\n",
        "pasivos = [pasivos_empresa_a, pasivos_empresa_b, pasivos_empresa_c]\n",
        "\n",
        "# 1. Crear diccionario de estados financieros\n",
        "estados_financieros = {}\n",
        "for i, empresa in enumerate(empresas):\n",
        "    estados_financieros[empresa] = {\n",
        "        \"Activos\": dict(activos[i]),\n",
        "        \"Pasivos\": dict(pasivos[i])\n",
        "    }\n",
        "\n",
        "# 2. Calcular Patrimonio Neto\n",
        "for empresa, datos in estados_financieros.items():\n",
        "    activos_total = 0\n",
        "    for valor in datos[\"Activos\"].values():\n",
        "        activos_total += valor\n",
        "    pasivos_total = 0\n",
        "    for valor in datos[\"Pasivos\"].values():\n",
        "        pasivos_total += valor\n",
        "    datos[\"Patrimonio Neto\"] = activos_total - pasivos_total\n",
        "\n",
        "# 3. Identificar Activos Clave\n",
        "activos_clave = set()\n",
        "for empresa in empresas:\n",
        "    for nombre, valor in estados_financieros[empresa][\"Activos\"].items():\n",
        "        if valor > 100000:\n",
        "            activos_clave.add(nombre)\n",
        "\n",
        "# 4. Empresas con Problemas de Liquidez\n",
        "empresas_liquidez = []\n",
        "for empresa, datos in estados_financieros.items():\n",
        "    activo_corriente = datos[\"Activos\"][\"Efectivo\"] + datos[\"Activos\"][\"Cuentas por Cobrar\"]\n",
        "    pasivo_corriente = datos[\"Pasivos\"][\"Cuentas por Pagar\"]\n",
        "    if activo_corriente < pasivo_corriente:\n",
        "        empresas_liquidez.append(empresa)\n",
        "\n",
        "# 5. Mostrar Resultados\n",
        "print(\"Estados Financieros:\")\n",
        "for empresa, datos in estados_financieros.items():\n",
        "    print(f\"- {empresa}:\")\n",
        "    for tipo, valores in datos.items():\n",
        "        print(f\"  {tipo}: {valores}\")\n",
        "\n",
        "print(\"\\nActivos Clave:\", activos_clave)\n",
        "print(\"\\nEmpresas con Problemas de Liquidez:\", empresas_liquidez)"
      ],
      "metadata": {
        "colab": {
          "base_uri": "https://localhost:8080/"
        },
        "id": "hpCuuw74JaeC",
        "outputId": "ed52fd49-f059-4b68-bbc0-ea5788218c2a"
      },
      "execution_count": null,
      "outputs": [
        {
          "output_type": "stream",
          "name": "stdout",
          "text": [
            "Estados Financieros:\n",
            "- Empresa A:\n",
            "  Activos: {'Efectivo': 250000, 'Cuentas por Cobrar': 120000, 'Inventario': 80000, 'Inversiones': 150000}\n",
            "  Pasivos: {'Cuentas por Pagar': 50000, 'Préstamos': 100000, 'Impuestos por Pagar': 25000}\n",
            "  Patrimonio Neto: 425000\n",
            "- Empresa B:\n",
            "  Activos: {'Efectivo': 80000, 'Cuentas por Cobrar': 65000, 'Inventario': 180000, 'Inversiones': 90000}\n",
            "  Pasivos: {'Cuentas por Pagar': 95000, 'Préstamos': 220000, 'Impuestos por Pagar': 40000}\n",
            "  Patrimonio Neto: 60000\n",
            "- Empresa C:\n",
            "  Activos: {'Efectivo': 380000, 'Cuentas por Cobrar': 210000, 'Inventario': 150000, 'Inversiones': 280000}\n",
            "  Pasivos: {'Cuentas por Pagar': 130000, 'Préstamos': 350000, 'Impuestos por Pagar': 60000}\n",
            "  Patrimonio Neto: 480000\n",
            "\n",
            "Activos Clave: {'Inventario', 'Cuentas por Cobrar', 'Inversiones', 'Efectivo'}\n",
            "\n",
            "Empresas con Problemas de Liquidez: []\n"
          ]
        }
      ]
    }
  ]
}